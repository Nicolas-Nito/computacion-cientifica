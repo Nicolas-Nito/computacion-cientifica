{
 "cells": [
  {
   "cell_type": "code",
   "execution_count": 41,
   "id": "d862645e",
   "metadata": {},
   "outputs": [],
   "source": [
    "import numpy as np"
   ]
  },
  {
   "cell_type": "code",
   "execution_count": 40,
   "id": "d64ca363",
   "metadata": {},
   "outputs": [],
   "source": [
    "func= lambda x : np.exp(x)\n",
    "a = -1; b = 1\n",
    "m =5"
   ]
  },
  {
   "cell_type": "markdown",
   "id": "7826f4b0",
   "metadata": {},
   "source": [
    "Sumas de Riemann \n",
    "$ \\sum^{m-1}_{i=1}$"
   ]
  },
  {
   "cell_type": "code",
   "execution_count": 48,
   "id": "17f63e03",
   "metadata": {},
   "outputs": [],
   "source": [
    "x=np.linspace(-1,1,5+1)\n",
    "xk = x[:-1]  #123\n",
    "xk1= x[1:]   #234"
   ]
  },
  {
   "cell_type": "code",
   "execution_count": 51,
   "id": "b3dd6f90",
   "metadata": {},
   "outputs": [
    {
     "data": {
      "text/plain": [
       "array([0.2, 0.2, 0.2, 0.2, 0.2])"
      ]
     },
     "execution_count": 51,
     "metadata": {},
     "output_type": "execute_result"
    }
   ],
   "source": [
    "(xk1-xk)/2"
   ]
  },
  {
   "cell_type": "code",
   "execution_count": 45,
   "id": "4a2c517a",
   "metadata": {},
   "outputs": [],
   "source": [
    "def riemann(f,a,b,m,side=\"Right\",verbose=False, text=text, figname='', save_file=False):\n",
    "    x=np.linspace(a,b,m+1)\n",
    "    h=(b-a)/m\n",
    "    if side==\"Right\":\n",
    "        xi=x[1:]\n",
    "    elif side==\"Left\":\n",
    "        xi=x[:-1]\n",
    "    xk1=x[:-1]\n",
    "    xk=x[1:]\n",
    "    \n",
    "    if verbose:\n",
    "        1+1\n",
    "    val=np.sum(f(xi)*(xk-xk1))\n",
    "    return val\n",
    "riemann(func,-1,1,5,\"Right\",verbose=False)    "
   ]
  },
  {
   "cell_type": "code",
   "execution_count": 46,
   "id": "623d2391",
   "metadata": {},
   "outputs": [
    {
     "data": {
      "text/plain": [
       "2.851738310472693"
      ]
     },
     "execution_count": 46,
     "metadata": {},
     "output_type": "execute_result"
    }
   ],
   "source": []
  },
  {
   "cell_type": "code",
   "execution_count": 67,
   "id": "373f8966",
   "metadata": {},
   "outputs": [
    {
     "data": {
      "text/plain": [
       "2.348872874474206"
      ]
     },
     "execution_count": 67,
     "metadata": {},
     "output_type": "execute_result"
    }
   ],
   "source": [
    "def midpoint(f,a,b,m,verbose=False):\n",
    "    x=np.linspace(a,b,m+1)\n",
    "    xk = x[:-1]  #123\n",
    "    xk1= x[1:]   #234\n",
    "    h  = xk1-xk\n",
    "    \"\"\"\n",
    "    h[0]/=2\n",
    "    h[-1]/=2\"\"\"\n",
    "    xa = (xk+xk1)/2 \n",
    "    return np.sum(np.dot(h,f(xa)))\n",
    "midpoint(func,a,b,16)"
   ]
  },
  {
   "cell_type": "code",
   "execution_count": 75,
   "id": "553aa823",
   "metadata": {},
   "outputs": [
    {
     "data": {
      "text/plain": [
       "2.3534620103747823"
      ]
     },
     "execution_count": 75,
     "metadata": {},
     "output_type": "execute_result"
    }
   ],
   "source": [
    "def trapecio(f,a,b,m):\n",
    "    x=np.linspace(a,b,m+1)\n",
    "    xk = x[:-1]  #123\n",
    "    xk1= x[1:]   #234\n",
    "    h=(b-a)/m\n",
    "    l=np.full(m+1,h)\n",
    "    l[0]/=2\n",
    "    l[-1]/=2\n",
    "    return np.dot(l,f(x))\n",
    "\n",
    "trapecio(func,a,b,16)"
   ]
  },
  {
   "cell_type": "code",
   "execution_count": null,
   "id": "11b00586",
   "metadata": {},
   "outputs": [],
   "source": [
    "def simpson(f,a,b,m)"
   ]
  }
 ],
 "metadata": {
  "kernelspec": {
   "display_name": "Python 3 (ipykernel)",
   "language": "python",
   "name": "python3"
  },
  "language_info": {
   "codemirror_mode": {
    "name": "ipython",
    "version": 3
   },
   "file_extension": ".py",
   "mimetype": "text/x-python",
   "name": "python",
   "nbconvert_exporter": "python",
   "pygments_lexer": "ipython3",
   "version": "3.7.13"
  }
 },
 "nbformat": 4,
 "nbformat_minor": 5
}
