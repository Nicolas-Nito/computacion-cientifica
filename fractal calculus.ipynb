{
 "cells": [
  {
   "cell_type": "markdown",
   "id": "05977349",
   "metadata": {},
   "source": [
    "**El objetivo de este trabajo es sobre el calculo fractal aplicado a medias integrales y medias derivadas**"
   ]
  },
  {
   "cell_type": "code",
   "execution_count": 92,
   "id": "f931b1f3",
   "metadata": {},
   "outputs": [],
   "source": [
    "import numpy as np\n",
    "import math\n",
    "from scipy.special import gamma, factorial"
   ]
  },
  {
   "cell_type": "code",
   "execution_count": 85,
   "id": "c4c269a0",
   "metadata": {},
   "outputs": [],
   "source": [
    "func = lambda x: np.exp(x)\n",
    "func2= lambda x: 1\n",
    "a=-1\n",
    "b=1\n"
   ]
  },
  {
   "cell_type": "code",
   "execution_count": 46,
   "id": "d08c9f7d",
   "metadata": {},
   "outputs": [
    {
     "data": {
      "text/plain": [
       "1"
      ]
     },
     "execution_count": 46,
     "metadata": {},
     "output_type": "execute_result"
    }
   ],
   "source": [
    "func2(10)"
   ]
  },
  {
   "cell_type": "markdown",
   "id": "e2c0b075",
   "metadata": {},
   "source": [
    "*Necesitamos definir la funcion* **Gamma** $\\Gamma$\n",
    "$$\n",
    "\\Gamma(z) = \\int_{0}^{\\infty} t^{z-1}e^{-t}dt\n",
    "$$\n",
    "\n",
    "*Conociendo la propiedad de la funcion Gamma sobre \n",
    "$$\\Gamma(n+1)=n! \\quad \\forall n\\in\\mathbb{N}$$\n",
    "*podemos extrapolarlo para numeros Reales\n",
    "$$(\\alpha -1) ! =\\Gamma(\\alpha ) \\quad \\forall \\alpha \\in \\mathbb{R}$$"
   ]
  },
  {
   "cell_type": "code",
   "execution_count": 124,
   "id": "e6593c9e",
   "metadata": {},
   "outputs": [
    {
     "data": {
      "text/plain": [
       "2.033639690223148"
      ]
     },
     "execution_count": 124,
     "metadata": {},
     "output_type": "execute_result"
    }
   ],
   "source": [
    "def trapecioA(f,a,b,m):\n",
    "    x=np.linspace(a,b,m+1)\n",
    "    xk = x[:-1]  #123\n",
    "    xk1= x[1:]   #234\n",
    "    h=(b-a)/m\n",
    "    l=np.full(m+1,h)\n",
    "    l=l[:-1]\n",
    "    l[0]/=2\n",
    "    l[-1]/=2\n",
    "    return np.dot(l,f(xk))\n",
    "\n",
    "trapecio(func,a,b,16)"
   ]
  },
  {
   "cell_type": "code",
   "execution_count": 87,
   "id": "cfad2c1e",
   "metadata": {},
   "outputs": [],
   "source": [
    "w=lambda t: np.power(5-t,0.5-1)\n",
    "np.power(gamma(0.5),-1)\n",
    "l=np.linspace(0,5,100)\n",
    "l=l[:-1]\n",
    "#w(l)"
   ]
  },
  {
   "cell_type": "code",
   "execution_count": 118,
   "id": "8c58adf7",
   "metadata": {},
   "outputs": [
    {
     "data": {
      "text/plain": [
       "2980.9579870417283"
      ]
     },
     "execution_count": 118,
     "metadata": {},
     "output_type": "execute_result"
    }
   ],
   "source": [
    "np.exp(8)"
   ]
  },
  {
   "cell_type": "markdown",
   "id": "aa3bed90",
   "metadata": {},
   "source": [
    "$$\n",
    "I^\\alpha f(x)=\\frac{1}{\\Gamma(\\alpha)}\\int^{x}_{0}(x-t)^{\\alpha -1}f(t)dt \\quad \\forall\\alpha \\in \\mathbb{C} \\land Re(\\alpha)>0\n",
    "$$"
   ]
  },
  {
   "cell_type": "code",
   "execution_count": 128,
   "id": "38f57a96",
   "metadata": {},
   "outputs": [
    {
     "data": {
      "text/plain": [
       "1.4348366243350672"
      ]
     },
     "execution_count": 128,
     "metadata": {},
     "output_type": "execute_result"
    }
   ],
   "source": [
    "def Cauchy(n,x,f,m,J_method):\n",
    "    w=lambda t: np.power(x-t,n-1)\n",
    "    gam= np.power(gamma(n),-1)\n",
    "    inte= lambda t: w(t)*f(t)\n",
    "    #func = lambda x: gam*J_method(inte,)\n",
    "    return (gam*J_method(inte,0,x,m) )\n",
    "\n",
    "Cauchy(1/5,5,func2,5000000,trapecioA)"
   ]
  },
  {
   "cell_type": "code",
   "execution_count": null,
   "id": "d8aae89e",
   "metadata": {},
   "outputs": [],
   "source": [
    "int"
   ]
  },
  {
   "cell_type": "code",
   "execution_count": 106,
   "id": "db6ddb9e",
   "metadata": {},
   "outputs": [
    {
     "data": {
      "text/plain": [
       "2.52313252202016"
      ]
     },
     "execution_count": 106,
     "metadata": {},
     "output_type": "execute_result"
    }
   ],
   "source": [
    "(2/np.power(math.pi,1/2))*np.power(5,1/2)"
   ]
  },
  {
   "cell_type": "code",
   "execution_count": 107,
   "id": "437b198c",
   "metadata": {},
   "outputs": [
    {
     "data": {
      "text/plain": [
       "0.252313252202016"
      ]
     },
     "execution_count": 107,
     "metadata": {},
     "output_type": "execute_result"
    }
   ],
   "source": [
    "(1/np.power(math.pi,1/2))*np.power(5,-1/2)"
   ]
  },
  {
   "cell_type": "code",
   "execution_count": 88,
   "id": "75f82767",
   "metadata": {},
   "outputs": [
    {
     "data": {
      "text/plain": [
       "2.2758155547336094"
      ]
     },
     "execution_count": 88,
     "metadata": {},
     "output_type": "execute_result"
    }
   ],
   "source": [
    "#x=5 n=1/2\n",
    "np.power(gamma(1/2),-1) * trapecio(lambda t:np.power(5-t,-0.5),0,5,100)"
   ]
  },
  {
   "cell_type": "code",
   "execution_count": 81,
   "id": "6e8ea1d0",
   "metadata": {},
   "outputs": [
    {
     "data": {
      "text/plain": [
       "4.033778043938259"
      ]
     },
     "execution_count": 81,
     "metadata": {},
     "output_type": "execute_result"
    }
   ],
   "source": [
    "trapecio(lambda t:np.power(5-t,-0.5),0,5,100)"
   ]
  }
 ],
 "metadata": {
  "kernelspec": {
   "display_name": "Python 3 (ipykernel)",
   "language": "python",
   "name": "python3"
  },
  "language_info": {
   "codemirror_mode": {
    "name": "ipython",
    "version": 3
   },
   "file_extension": ".py",
   "mimetype": "text/x-python",
   "name": "python",
   "nbconvert_exporter": "python",
   "pygments_lexer": "ipython3",
   "version": "3.7.13"
  }
 },
 "nbformat": 4,
 "nbformat_minor": 5
}
